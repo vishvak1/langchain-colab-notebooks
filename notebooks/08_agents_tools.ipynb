{
 "cells": [
  {
   "cell_type": "markdown",
   "id": "8f76796a-b446-4283-9c2e-ee87b0840d4f",
   "metadata": {},
   "source": [
    "# Agents and Tools"
   ]
  },
  {
   "cell_type": "markdown",
   "id": "31c32d46-30fe-4ffc-818c-c2a1701ccff1",
   "metadata": {},
   "source": [
    "What are “Agents & Tools”?\n",
    "- Tools are functions (APIs, retrievers, calculators) the model can call.\n",
    "- Agents are LLM-powered planners that decide dynamically which tool(s) to call, in what order, based on the user’s request.\n",
    "\n",
    "They are useful when tasks require external actions, multi-step reasoning, or dynamic selection (e.g., “Search Wikipedia and then summarize”)."
   ]
  },
  {
   "cell_type": "markdown",
   "id": "96178ad6-89c8-41e7-95f6-eac710b69f26",
   "metadata": {},
   "source": [
    "We’ll cover:\n",
    "\n",
    "- Defining simple Tools (calculator, search stub)\n",
    "- Using an LCEL tool manually\n",
    "- A lightweight Agent that calls tools with create_openai_functions_agent (v0.3 approach)\n",
    "- Understanding tool-calling JSON\n",
    "- Adding memory to agents (brief mention)"
   ]
  },
  {
   "cell_type": "markdown",
   "id": "f8b49ee1-9679-4325-9792-f6b2fd0fcd3a",
   "metadata": {},
   "source": [
    "Run this bootstrap cell before running subsequent cells"
   ]
  },
  {
   "cell_type": "code",
   "execution_count": null,
   "id": "fb4cf5f4-5cbb-4a81-ad8f-33f1aa383d65",
   "metadata": {},
   "outputs": [],
   "source": [
    "import os, math, time\n",
    "from dotenv import load_dotenv\n",
    "load_dotenv()\n",
    "if not os.getenv(\"OPENAI_API_KEY\"):\n",
    "    raise RuntimeError(\"Missing OPENAI_API_KEY in .env\")\n",
    "\n",
    "from langchain_openai import ChatOpenAI\n",
    "from langchain_core.prompts import ChatPromptTemplate, MessagesPlaceholder\n",
    "from langchain_core.output_parsers import StrOutputParser\n",
    "from langchain_core.tools import tool\n",
    "from langchain.agents import create_openai_functions_agent, tool as agent_tool, AgentExecutor\n",
    "\n",
    "llm = ChatOpenAI(model=\"gpt-4o-mini\", temperature=0.2)\n",
    "print(\"✅ Ready: Chat model for agents & tools\")"
   ]
  },
  {
   "cell_type": "markdown",
   "id": "2f5f172d-7368-435c-9b0a-b97eb268abe1",
   "metadata": {},
   "source": [
    "## Defining Tools (functions the agent can call)"
   ]
  },
  {
   "cell_type": "markdown",
   "id": "23b18ed1-4cb5-4835-a36a-9adfd49acf26",
   "metadata": {},
   "source": [
    "In LangChain v0.3, tools are simply Python callables decorated with `@tool`"
   ]
  },
  {
   "cell_type": "code",
   "execution_count": null,
   "id": "0fd16af5-8c73-4e27-aec9-13cd7f6b31d1",
   "metadata": {},
   "outputs": [],
   "source": [
    "# A simple calculator tool\n",
    "@tool\n",
    "def calculator(expression: str) -> str:\n",
    "    \"\"\"Evaluates basic math expressions like '2 + 2 * 5'.\"\"\"\n",
    "    print(\"Calc. is used\")\n",
    "    try:\n",
    "        return str(eval(expression))\n",
    "    except Exception as e:\n",
    "        return f\"Error: {e}\"\n",
    "\n",
    "# A fake search tool (simulate an API)\n",
    "@tool\n",
    "def search_web(query: str) -> str:\n",
    "    \"\"\"Search the web and return a short result (simulated).\"\"\"\n",
    "    print(\"Search is used\")\n",
    "    fake_results = {\n",
    "        \"LangChain\": \"LangChain is a framework for building LLM apps.\",\n",
    "        \"MMR\": \"Maximal Marginal Relevance balances relevance & diversity.\"\n",
    "    }\n",
    "    return fake_results.get(query, f\"No results found for '{query}'\")\n",
    "\n",
    "tools = [calculator, search_web]\n",
    "\n",
    "print(calculator.invoke(\"5 * (3 + 2)\"))\n",
    "print(search_web.invoke(\"LangChain\"))"
   ]
  },
  {
   "cell_type": "markdown",
   "id": "74d5bde1-96da-46f4-939d-8dce9cada1d8",
   "metadata": {},
   "source": [
    "## Creating Agents in OpenAI"
   ]
  },
  {
   "cell_type": "markdown",
   "id": "545c4338-9944-4438-993f-4686834d3ba7",
   "metadata": {},
   "source": [
    "LangChain v0.3 provides `create_openai_functions_agent` which leverages the model’s function/tool calling abilities."
   ]
  },
  {
   "cell_type": "markdown",
   "id": "d8b86de8-3d76-4b9c-bca0-106a4489b5e6",
   "metadata": {},
   "source": [
    "Here's an agent that uses the calculator and search_web tools."
   ]
  },
  {
   "cell_type": "code",
   "execution_count": null,
   "id": "d6019d47-a113-4813-8560-67f8efc82501",
   "metadata": {},
   "outputs": [],
   "source": [
    "# Create a prompt template for the agent\n",
    "prompt = ChatPromptTemplate.from_messages([\n",
    "    (\"system\", \"You are a helpful assistant. Use tools when needed.\"),\n",
    "    (\"user\", \"{input}\"),\n",
    "    MessagesPlaceholder(\"agent_scratchpad\")\n",
    "])\n",
    "\n",
    "# Create the agent with tool definitions\n",
    "agent = create_openai_functions_agent(llm, tools, prompt)\n",
    "\n",
    "# Wrap agent into an executor (for run + verbose logs)\n",
    "executor = AgentExecutor(agent=agent, tools=tools, verbose=True)\n",
    "\n",
    "# Ask a multi-step query:\n",
    "query = \"What's 2+2*5, then tell me what LangChain is?\"\n",
    "result = executor.invoke({\"input\": query})\n",
    "print(\"\\n--- Agent Final Output ---\")\n",
    "print(result[\"output\"])"
   ]
  },
  {
   "cell_type": "markdown",
   "id": "e7cb1ee1-2af2-44fb-948e-bcb420cf566f",
   "metadata": {},
   "source": [
    "### How it works"
   ]
  },
  {
   "cell_type": "markdown",
   "id": "07054af2-50f5-4191-abd1-8333525c164d",
   "metadata": {},
   "source": [
    "- `MessagesPlaceholder(\"agent_scratchpad\")`: Critical piece! This is where the agent keeps track of intermediate reasoning steps and tool invocations. The functions agent writes “thoughts” and tool calls here while working out the answer.\n",
    "- `create_openai_functions_agent`: Special constructor that wires up:\n",
    "    - The LLM (as a “planner” that decides what to do).\n",
    "    - The tools (actions it can take).\n",
    "    - The prompt (rules + placeholders for scratchpad).\n",
    "- The `AgentExecutor` is the runtime wrapper. It manages:\n",
    "    - Passing inputs into the agent.\n",
    "    - Handling intermediate steps (showing reasoning if verbose=True).\n",
    "    - Returning the final output."
   ]
  },
  {
   "cell_type": "code",
   "execution_count": null,
   "id": "504fc19b-c26b-4a6a-b16f-161c4f4b9657",
   "metadata": {},
   "outputs": [],
   "source": []
  }
 ],
 "metadata": {
  "kernelspec": {
   "display_name": "Python 3 (ipykernel)",
   "language": "python",
   "name": "python3"
  },
  "language_info": {
   "codemirror_mode": {
    "name": "ipython",
    "version": 3
   },
   "file_extension": ".py",
   "mimetype": "text/x-python",
   "name": "python",
   "nbconvert_exporter": "python",
   "pygments_lexer": "ipython3",
   "version": "3.11.9"
  }
 },
 "nbformat": 4,
 "nbformat_minor": 5
}
